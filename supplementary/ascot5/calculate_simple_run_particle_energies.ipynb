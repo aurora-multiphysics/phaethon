{
 "cells": [
  {
   "cell_type": "markdown",
   "id": "e0be1d35",
   "metadata": {},
   "source": [
    "The particle energy values returned by the ASCOT5 Python interface are not accurate for some reason. There is some internal conversion going on that results in results that are off in about the 4th significant digit and causing unit tests to fail. The code below is to generate the energy values independently from the mass and velocity values. Empirically, these have matched the results from the MOOSE App (`AscotProblem`). "
   ]
  },
  {
   "cell_type": "code",
   "execution_count": null,
   "id": "41efb82d",
   "metadata": {},
   "outputs": [],
   "source": [
    "from a5py.ascot5io import ascot5\n",
    "import numpy as np\n",
    "from scipy import constants\n",
    "import pprint"
   ]
  },
  {
   "cell_type": "code",
   "execution_count": null,
   "id": "495ab464",
   "metadata": {},
   "outputs": [],
   "source": [
    "a5file = ascot5.Ascot('simple_run.h5')"
   ]
  },
  {
   "cell_type": "code",
   "execution_count": null,
   "id": "2925e850",
   "metadata": {},
   "outputs": [],
   "source": [
    "endstate = a5file.active.endstate\n",
    "velocities = np.array([endstate[index] for index in ('vr', 'vphi', 'vz')])\n",
    "mass = endstate['mass']"
   ]
  },
  {
   "cell_type": "code",
   "execution_count": null,
   "id": "7b6a2516",
   "metadata": {},
   "outputs": [],
   "source": [
    "velocities = velocities.T"
   ]
  },
  {
   "cell_type": "code",
   "execution_count": null,
   "id": "0726a43e",
   "metadata": {},
   "outputs": [],
   "source": [
    "def calculate_rel_energy(mass, velocities):\n",
    "    c_sqrd = constants.c**2\n",
    "    gamma = 1 / np.sqrt(1 - np.square(velocities).sum() / c_sqrd)\n",
    "    return (gamma - 1) * mass * c_sqrd"
   ]
  },
  {
   "cell_type": "code",
   "execution_count": null,
   "id": "c3ef657d",
   "metadata": {},
   "outputs": [],
   "source": [
    "energies = [calculate_rel_energy(mass[i], velocities[i]) for i in range(mass.size)]\n",
    "pprint.pprint(energies)"
   ]
  },
  {
   "cell_type": "markdown",
   "id": "d826a2c4",
   "metadata": {},
   "source": [
    "And save to file for use in tests."
   ]
  },
  {
   "cell_type": "code",
   "execution_count": null,
   "metadata": {},
   "outputs": [],
   "source": [
    "np.savetxt('simple_run_energies.csv', energies, newline=', ')"
   ]
  }
 ],
 "metadata": {
  "interpreter": {
   "hash": "767d51c1340bd893661ea55ea3124f6de3c7a262a8b4abca0554b478b1e2ff90"
  },
  "kernelspec": {
   "display_name": "Python 3.8.10 64-bit",
   "name": "python3"
  },
  "language_info": {
   "codemirror_mode": {
    "name": "ipython",
    "version": 3
   },
   "file_extension": ".py",
   "mimetype": "text/x-python",
   "name": "python",
   "nbconvert_exporter": "python",
   "pygments_lexer": "ipython3",
   "version": "3.8.5"
  }
 },
 "nbformat": 4,
 "nbformat_minor": 5
}
