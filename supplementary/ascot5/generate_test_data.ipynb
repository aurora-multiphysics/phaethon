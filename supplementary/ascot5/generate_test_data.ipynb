{
 "cells": [
  {
   "cell_type": "markdown",
   "id": "cb7d193b",
   "metadata": {},
   "source": [
    "# Generate test data from ASCOT5 'simplerun'\n",
    "\n",
    "First, generate the input file using a preprocessing script and give it a better name"
   ]
  },
  {
   "cell_type": "code",
   "execution_count": null,
   "id": "3ee5da68",
   "metadata": {},
   "outputs": [],
   "source": [
    "%run ../../ascot5-python/a5py/a5py/preprocessing/simpleruns.py"
   ]
  },
  {
   "cell_type": "code",
   "execution_count": null,
   "id": "fd7b754a",
   "metadata": {},
   "outputs": [],
   "source": [
    "! mv helloworld.h5 simple_run.h5"
   ]
  },
  {
   "cell_type": "markdown",
   "id": "f26c957a",
   "metadata": {},
   "source": [
    "TODO need to build docker image and then run a container, which looks like it might be tricky in a jupyter notebook."
   ]
  },
  {
   "cell_type": "markdown",
   "id": "bb23339b",
   "metadata": {},
   "source": [
    "# Generate dummy mesh for use in MOOSE app"
   ]
  },
  {
   "cell_type": "code",
   "execution_count": null,
   "id": "b52985d4",
   "metadata": {},
   "outputs": [],
   "source": [
    "# TODO modify the input to correspond to the output of the above\n",
    "#%run a5wall_to_gmsh.py simple_wall.h5"
   ]
  }
 ],
 "metadata": {
  "kernelspec": {
   "display_name": "Python 3",
   "language": "python",
   "name": "python3"
  },
  "language_info": {
   "codemirror_mode": {
    "name": "ipython",
    "version": 3
   },
   "file_extension": ".py",
   "mimetype": "text/x-python",
   "name": "python",
   "nbconvert_exporter": "python",
   "pygments_lexer": "ipython3",
   "version": "3.7.8"
  }
 },
 "nbformat": 4,
 "nbformat_minor": 5
}
