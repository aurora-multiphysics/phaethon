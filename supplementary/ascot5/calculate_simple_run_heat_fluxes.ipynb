{
 "cells": [
  {
   "cell_type": "code",
   "execution_count": null,
   "source": [
    "import a5py.ascot5io.ascot5 as ascot5\n",
    "import numpy as np\n",
    "\n",
    "hdf5 = ascot5.Ascot('simple_run.h5')\n",
    "wall = hdf5.active.wall\n",
    "endstate = hdf5.active.endstate\n",
    "walltile = endstate.get('walltile')\n",
    "\n",
    "A = wall.area() # Triangle area\n",
    "nWallTris = wall.getNumberOfElements()\n",
    "\n",
    "# Pick the wall hit particles\n",
    "wall_hits = walltile.nonzero()\n",
    "\n",
    "mesh_elements = walltile[wall_hits]\n",
    "weights = endstate.get('weight')[wall_hits]\n",
    "energies = endstate.get('energy')[wall_hits]\n",
    "\n",
    "heat_fluxes = np.zeros(nWallTris)\n",
    "powers = np.multiply(weights, energies)\n",
    "for element, power in zip(mesh_elements, powers):\n",
    "    heat_fluxes[element] += power\n",
    "\n",
    "heat_fluxes = np.divide(heat_fluxes, A)\n",
    "\n",
    "print(heat_fluxes)"
   ],
   "outputs": [],
   "metadata": {}
  },
  {
   "cell_type": "markdown",
   "source": [
    "Compare this to the existing script in ascot5-python interface:"
   ],
   "metadata": {}
  },
  {
   "cell_type": "code",
   "execution_count": null,
   "source": [
    "from a5py.wallloads.calculate import wallLoad3DEndstate\n",
    "\n",
    "wall_load = wallLoad3DEndstate(hdf5)\n",
    "print(wall_load)\n",
    "print(np.equal(wall_load, heat_fluxes).all())"
   ],
   "outputs": [],
   "metadata": {}
  },
  {
   "cell_type": "markdown",
   "source": [
    "Finally, save to a file for future use in unit tests"
   ],
   "metadata": {}
  },
  {
   "cell_type": "code",
   "execution_count": null,
   "source": [
    "np.savetxt('simple_run_heat_fluxes.csv', wall_load, newline=', ')"
   ],
   "outputs": [],
   "metadata": {}
  }
 ],
 "metadata": {
  "orig_nbformat": 4,
  "language_info": {
   "name": "python",
   "version": "3.8.5",
   "mimetype": "text/x-python",
   "codemirror_mode": {
    "name": "ipython",
    "version": 3
   },
   "pygments_lexer": "ipython3",
   "nbconvert_exporter": "python",
   "file_extension": ".py"
  },
  "kernelspec": {
   "name": "python3",
   "display_name": "Python 3.8.10 64-bit"
  },
  "interpreter": {
   "hash": "767d51c1340bd893661ea55ea3124f6de3c7a262a8b4abca0554b478b1e2ff90"
  }
 },
 "nbformat": 4,
 "nbformat_minor": 2
}