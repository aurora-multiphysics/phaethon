{
 "cells": [
  {
   "cell_type": "code",
   "execution_count": null,
   "metadata": {},
   "outputs": [],
   "source": [
    "import a5py.ascot5io.ascot5 as ascot5\n",
    "import numpy as np\n",
    "\n",
    "hdf5 = ascot5.Ascot('simple_run.h5')\n",
    "wall = hdf5.active.wall\n",
    "endstate = hdf5.active.endstate\n",
    "walltile = endstate.get('walltile')\n",
    "\n",
    "A = wall.area() # Triangle area\n",
    "nWallTris = wall.getNumberOfElements()\n",
    "\n",
    "# Pick the wall hit particles\n",
    "wall_hits = walltile.nonzero()\n",
    "\n",
    "mesh_elements = walltile[wall_hits] - 1\n",
    "weights = endstate.get('weight')[wall_hits]\n",
    "energies = endstate.get('energy')[wall_hits]\n",
    "\n",
    "heat_fluxes = np.zeros(nWallTris)\n",
    "powers = np.multiply(weights, energies)\n",
    "for element, power in zip(mesh_elements, powers):\n",
    "    heat_fluxes[element] += power\n",
    "\n",
    "heat_fluxes = np.divide(heat_fluxes, A)\n",
    "\n",
    "print(heat_fluxes)"
   ]
  },
  {
   "cell_type": "markdown",
   "metadata": {},
   "source": [
    "Compare this to the existing script in ascot5-python interface:"
   ]
  },
  {
   "cell_type": "code",
   "execution_count": null,
   "metadata": {},
   "outputs": [],
   "source": [
    "from a5py.wallloads.calculate import wallLoad3DEndstate\n",
    "\n",
    "wall_load = wallLoad3DEndstate(hdf5)\n",
    "print(wall_load)\n",
    "print(np.equal(wall_load, heat_fluxes).all())"
   ]
  },
  {
   "cell_type": "markdown",
   "metadata": {},
   "source": [
    "These don't match because there is an indexing error in the existing script that needs to be fixed. My answer above is correct.\n",
    "\n",
    "Finally, save to a file for future use in unit tests"
   ]
  },
  {
   "cell_type": "code",
   "execution_count": null,
   "metadata": {},
   "outputs": [],
   "source": [
    "np.savetxt('simple_run_heat_fluxes.csv', heat_fluxes, newline=', ')"
   ]
  },
  {
   "cell_type": "markdown",
   "metadata": {},
   "source": [
    "And we should also save the walltile hit values and particle weights while we are here to complete the unit test data that is needed."
   ]
  },
  {
   "cell_type": "code",
   "execution_count": null,
   "metadata": {},
   "outputs": [],
   "source": [
    "np.savetxt('weight.csv', endstate.get('weight'), newline=', ')\n",
    "np.savetxt('walltile.csv', walltile, newline=', ', fmt='%1d')"
   ]
  }
 ],
 "metadata": {
  "interpreter": {
   "hash": "767d51c1340bd893661ea55ea3124f6de3c7a262a8b4abca0554b478b1e2ff90"
  },
  "kernelspec": {
   "display_name": "Python 3.8.10 64-bit",
   "name": "python3"
  },
  "language_info": {
   "codemirror_mode": {
    "name": "ipython",
    "version": 3
   },
   "file_extension": ".py",
   "mimetype": "text/x-python",
   "name": "python",
   "nbconvert_exporter": "python",
   "pygments_lexer": "ipython3",
   "version": "3.8.5"
  },
  "orig_nbformat": 4
 },
 "nbformat": 4,
 "nbformat_minor": 2
}
